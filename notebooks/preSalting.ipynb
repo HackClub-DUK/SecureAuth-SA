{
  "nbformat": 4,
  "nbformat_minor": 0,
  "metadata": {
    "colab": {
      "name": "preSalting.ipynb",
      "provenance": [],
      "include_colab_link": true
    },
    "kernelspec": {
      "name": "python3",
      "display_name": "Python 3"
    },
    "language_info": {
      "name": "python"
    }
  },
  "cells": [
    {
      "cell_type": "markdown",
      "metadata": {
        "id": "view-in-github",
        "colab_type": "text"
      },
      "source": [
        "<a href=\"https://colab.research.google.com/github/ravi-prakash1907/SecureAuth-SA/blob/main/notebooks/preSalting.ipynb\" target=\"_parent\"><img src=\"https://colab.research.google.com/assets/colab-badge.svg\" alt=\"Open In Colab\"/></a>"
      ]
    },
    {
      "cell_type": "markdown",
      "source": [
        "## Pre-processing for salting\n"
      ],
      "metadata": {
        "id": "HES9OSyHsxgh"
      }
    },
    {
      "cell_type": "code",
      "source": [
        "## library\n",
        "from PIL import Image,ImageOps\n",
        "import numpy as np"
      ],
      "metadata": {
        "id": "7MjoO00lFboF"
      },
      "execution_count": 3,
      "outputs": []
    },
    {
      "cell_type": "code",
      "source": [
        "class preSalting:\n",
        "  def __init__(self):\n",
        "    pass\n",
        "  \n",
        "  def mapToSingleDigit(self, num):\n",
        "    if len(str(num)) != 1:\n",
        "      reminder = 0\n",
        "      while num != 0:\n",
        "        reminder += num%10\n",
        "        num //= 10\n",
        "        res = self.__mapToSingleDigit(reminder)\n",
        "      return res\n",
        "    else:\n",
        "      return num\n",
        "  \n",
        "  def processBiometric(self, fName):\n",
        "    im = Image.open(fName)\n",
        "    im = ImageOps.grayscale(im)\n",
        "    imarr = np.array(im)\n",
        "    imarr = imarr.reshape(imarr.shape[0]*imarr.shape[1],)\n",
        "    ans = sum(imarr)\n",
        "    res = self.__mapToSingleDigit(ans)\n",
        "    return res\n",
        "\n",
        "  def processDOB(self, dob):\n",
        "    dob = str(dob)\n",
        "    dob = dob.split('/')\n",
        "    dob = int(''.join(dob))\n",
        "    res = self.__mapToSingleDigit(dob)\n",
        "    return res\n",
        "  \n",
        "  ########\n",
        "\n",
        "  __mapToSingleDigit = mapToSingleDigit\n",
        "  "
      ],
      "metadata": {
        "id": "kStreEo5E2gs"
      },
      "execution_count": 14,
      "outputs": []
    },
    {
      "cell_type": "markdown",
      "source": [
        "### Application"
      ],
      "metadata": {
        "id": "r1YrrnuvHgJO"
      }
    },
    {
      "cell_type": "code",
      "source": [
        "thisPRS = preSalting()"
      ],
      "metadata": {
        "id": "fwY9AloBD7wP"
      },
      "execution_count": 15,
      "outputs": []
    },
    {
      "cell_type": "code",
      "source": [
        "fileName = 'fpSample.jpg'\n",
        "thisPRS.processBiometric(fileName)"
      ],
      "metadata": {
        "id": "fADor0Sju8M6",
        "colab": {
          "base_uri": "https://localhost:8080/"
        },
        "outputId": "e449dc62-f336-4361-b287-6c2f62ba20b2"
      },
      "execution_count": 16,
      "outputs": [
        {
          "output_type": "execute_result",
          "data": {
            "text/plain": [
              "5"
            ]
          },
          "metadata": {},
          "execution_count": 16
        }
      ]
    },
    {
      "cell_type": "code",
      "source": [
        "thisDOB = '20/02/2001'\n",
        "thisPRS.processDOB(thisDOB)"
      ],
      "metadata": {
        "colab": {
          "base_uri": "https://localhost:8080/"
        },
        "id": "3kBCjtw0IrII",
        "outputId": "b8ca1745-e34b-4356-d58b-a3ad17b8c70a"
      },
      "execution_count": 17,
      "outputs": [
        {
          "output_type": "execute_result",
          "data": {
            "text/plain": [
              "7"
            ]
          },
          "metadata": {},
          "execution_count": 17
        }
      ]
    }
  ]
}