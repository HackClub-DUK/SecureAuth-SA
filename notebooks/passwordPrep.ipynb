{
  "nbformat": 4,
  "nbformat_minor": 0,
  "metadata": {
    "colab": {
      "name": "passwordPrep.ipynb",
      "provenance": [],
      "collapsed_sections": [],
      "include_colab_link": true
    },
    "kernelspec": {
      "name": "python3",
      "display_name": "Python 3"
    },
    "language_info": {
      "name": "python"
    }
  },
  "cells": [
    {
      "cell_type": "markdown",
      "metadata": {
        "id": "view-in-github",
        "colab_type": "text"
      },
      "source": [
        "<a href=\"https://colab.research.google.com/github/ravi-prakash1907/SecureAuth-SA/blob/main/notebooks/passwordPrep.ipynb\" target=\"_parent\"><img src=\"https://colab.research.google.com/assets/colab-badge.svg\" alt=\"Open In Colab\"/></a>"
      ]
    },
    {
      "cell_type": "markdown",
      "source": [
        "## Password Preparation  "
      ],
      "metadata": {
        "id": "j5McCJKyhH4Y"
      }
    },
    {
      "cell_type": "code",
      "source": [
        "## libraries\n",
        "from preSalting import *"
      ],
      "metadata": {
        "id": "uEmBlhvuhUS5"
      },
      "execution_count": null,
      "outputs": []
    },
    {
      "cell_type": "markdown",
      "source": [
        "**Sample Input**"
      ],
      "metadata": {
        "id": "NyPy9c_Yi9uD"
      }
    },
    {
      "cell_type": "code",
      "source": [
        "# passw = input(\"Enter your password: \")\n",
        "# dob = input(\"Enter DOB (DD/MM/YYYY): \")\n",
        "# fpPath = input(\"Upload your FP: \")"
      ],
      "metadata": {
        "colab": {
          "base_uri": "https://localhost:8080/"
        },
        "id": "QuHlZw_ti9Lj",
        "outputId": "5b5b8fa9-8d01-47cd-fb8d-411177764ab8"
      },
      "execution_count": null,
      "outputs": [
        {
          "name": "stdout",
          "output_type": "stream",
          "text": [
            "Enter your password: R@vi2341\n",
            "Enter DOB (DD/MM/YYYY): 29/05/1999\n",
            "Upload your FP: fpSample.jpg\n"
          ]
        }
      ]
    },
    {
      "cell_type": "code",
      "source": [
        "gotPass = 'R@vi2341'\n",
        "dob = '29/05/1999'\n",
        "fpPath = 'fpSample.jpg'"
      ],
      "metadata": {
        "id": "PdgQrIPkmC5e"
      },
      "execution_count": null,
      "outputs": []
    },
    {
      "cell_type": "markdown",
      "source": [
        "**Init Module**"
      ],
      "metadata": {
        "id": "awHU0eMduF1w"
      }
    },
    {
      "cell_type": "code",
      "source": [
        "thisSA = secureAuth()"
      ],
      "metadata": {
        "id": "_LtPi9xTh1-R"
      },
      "execution_count": null,
      "outputs": []
    },
    {
      "cell_type": "markdown",
      "source": [
        "### Getting Effective Password Hash "
      ],
      "metadata": {
        "id": "ugVH2IhduX98"
      }
    },
    {
      "cell_type": "code",
      "source": [
        "thisSA.getEffectivePass(gotPass, dob, fpPath)"
      ],
      "metadata": {
        "colab": {
          "base_uri": "https://localhost:8080/",
          "height": 35
        },
        "id": "6QsqJdlh6DMD",
        "outputId": "2f8217b1-83c6-4ac4-b928-c208d3ad1123"
      },
      "execution_count": null,
      "outputs": [
        {
          "output_type": "execute_result",
          "data": {
            "text/plain": [
              "'4e8aa42109451367a8417977d90493b9932ba3c3c91425ed8b7260c856637ab6'"
            ],
            "application/vnd.google.colaboratory.intrinsic+json": {
              "type": "string"
            }
          },
          "metadata": {},
          "execution_count": 5
        }
      ]
    },
    {
      "cell_type": "markdown",
      "source": [
        "---"
      ],
      "metadata": {
        "id": "h31ZDhWS_4mx"
      }
    }
  ]
}