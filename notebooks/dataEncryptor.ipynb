{
  "nbformat": 4,
  "nbformat_minor": 0,
  "metadata": {
    "colab": {
      "name": "dataEncryptor.ipynb",
      "provenance": [],
      "include_colab_link": true
    },
    "kernelspec": {
      "name": "python3",
      "display_name": "Python 3"
    },
    "language_info": {
      "name": "python"
    }
  },
  "cells": [
    {
      "cell_type": "markdown",
      "metadata": {
        "id": "view-in-github",
        "colab_type": "text"
      },
      "source": [
        "<a href=\"https://colab.research.google.com/github/ravi-prakash1907/SecureAuth-SA/blob/main/notebooks/dataEncryptor.ipynb\" target=\"_parent\"><img src=\"https://colab.research.google.com/assets/colab-badge.svg\" alt=\"Open In Colab\"/></a>"
      ]
    },
    {
      "cell_type": "code",
      "source": [
        "!pip install pycrypto"
      ],
      "metadata": {
        "colab": {
          "base_uri": "https://localhost:8080/"
        },
        "id": "uW-J-otnE-8G",
        "outputId": "01d5b937-3e6d-4652-aa55-c394237e5cae"
      },
      "execution_count": null,
      "outputs": [
        {
          "output_type": "stream",
          "name": "stdout",
          "text": [
            "Collecting pycrypto\n",
            "  Downloading pycrypto-2.6.1.tar.gz (446 kB)\n",
            "\u001b[?25l\r\u001b[K     |▊                               | 10 kB 21.1 MB/s eta 0:00:01\r\u001b[K     |█▌                              | 20 kB 26.6 MB/s eta 0:00:01\r\u001b[K     |██▏                             | 30 kB 15.5 MB/s eta 0:00:01\r\u001b[K     |███                             | 40 kB 10.5 MB/s eta 0:00:01\r\u001b[K     |███▊                            | 51 kB 5.4 MB/s eta 0:00:01\r\u001b[K     |████▍                           | 61 kB 6.4 MB/s eta 0:00:01\r\u001b[K     |█████▏                          | 71 kB 7.3 MB/s eta 0:00:01\r\u001b[K     |█████▉                          | 81 kB 5.6 MB/s eta 0:00:01\r\u001b[K     |██████▋                         | 92 kB 6.2 MB/s eta 0:00:01\r\u001b[K     |███████▍                        | 102 kB 6.8 MB/s eta 0:00:01\r\u001b[K     |████████                        | 112 kB 6.8 MB/s eta 0:00:01\r\u001b[K     |████████▉                       | 122 kB 6.8 MB/s eta 0:00:01\r\u001b[K     |█████████▌                      | 133 kB 6.8 MB/s eta 0:00:01\r\u001b[K     |██████████▎                     | 143 kB 6.8 MB/s eta 0:00:01\r\u001b[K     |███████████                     | 153 kB 6.8 MB/s eta 0:00:01\r\u001b[K     |███████████▊                    | 163 kB 6.8 MB/s eta 0:00:01\r\u001b[K     |████████████▌                   | 174 kB 6.8 MB/s eta 0:00:01\r\u001b[K     |█████████████▏                  | 184 kB 6.8 MB/s eta 0:00:01\r\u001b[K     |██████████████                  | 194 kB 6.8 MB/s eta 0:00:01\r\u001b[K     |██████████████▊                 | 204 kB 6.8 MB/s eta 0:00:01\r\u001b[K     |███████████████▍                | 215 kB 6.8 MB/s eta 0:00:01\r\u001b[K     |████████████████▏               | 225 kB 6.8 MB/s eta 0:00:01\r\u001b[K     |█████████████████               | 235 kB 6.8 MB/s eta 0:00:01\r\u001b[K     |█████████████████▋              | 245 kB 6.8 MB/s eta 0:00:01\r\u001b[K     |██████████████████▍             | 256 kB 6.8 MB/s eta 0:00:01\r\u001b[K     |███████████████████             | 266 kB 6.8 MB/s eta 0:00:01\r\u001b[K     |███████████████████▉            | 276 kB 6.8 MB/s eta 0:00:01\r\u001b[K     |████████████████████▋           | 286 kB 6.8 MB/s eta 0:00:01\r\u001b[K     |█████████████████████▎          | 296 kB 6.8 MB/s eta 0:00:01\r\u001b[K     |██████████████████████          | 307 kB 6.8 MB/s eta 0:00:01\r\u001b[K     |██████████████████████▊         | 317 kB 6.8 MB/s eta 0:00:01\r\u001b[K     |███████████████████████▌        | 327 kB 6.8 MB/s eta 0:00:01\r\u001b[K     |████████████████████████▎       | 337 kB 6.8 MB/s eta 0:00:01\r\u001b[K     |█████████████████████████       | 348 kB 6.8 MB/s eta 0:00:01\r\u001b[K     |█████████████████████████▊      | 358 kB 6.8 MB/s eta 0:00:01\r\u001b[K     |██████████████████████████▍     | 368 kB 6.8 MB/s eta 0:00:01\r\u001b[K     |███████████████████████████▏    | 378 kB 6.8 MB/s eta 0:00:01\r\u001b[K     |████████████████████████████    | 389 kB 6.8 MB/s eta 0:00:01\r\u001b[K     |████████████████████████████▋   | 399 kB 6.8 MB/s eta 0:00:01\r\u001b[K     |█████████████████████████████▍  | 409 kB 6.8 MB/s eta 0:00:01\r\u001b[K     |██████████████████████████████  | 419 kB 6.8 MB/s eta 0:00:01\r\u001b[K     |██████████████████████████████▉ | 430 kB 6.8 MB/s eta 0:00:01\r\u001b[K     |███████████████████████████████▋| 440 kB 6.8 MB/s eta 0:00:01\r\u001b[K     |████████████████████████████████| 446 kB 6.8 MB/s \n",
            "\u001b[?25hBuilding wheels for collected packages: pycrypto\n",
            "  Building wheel for pycrypto (setup.py) ... \u001b[?25l\u001b[?25hdone\n",
            "  Created wheel for pycrypto: filename=pycrypto-2.6.1-cp37-cp37m-linux_x86_64.whl size=499932 sha256=0a4f7c68d9c6fcd13207e81fd19a82d6743348092630f1863e29b2c5ed343bfc\n",
            "  Stored in directory: /root/.cache/pip/wheels/cf/85/ba/bbd7c96add459de7598fb424e5ff2309baf2095c844ac0f191\n",
            "Successfully built pycrypto\n",
            "Installing collected packages: pycrypto\n",
            "Successfully installed pycrypto-2.6.1\n"
          ]
        }
      ]
    },
    {
      "cell_type": "markdown",
      "source": [
        "# Sample"
      ],
      "metadata": {
        "id": "CKPDGPz2TcvO"
      }
    },
    {
      "cell_type": "code",
      "source": [
        "from dataSecurity import *"
      ],
      "metadata": {
        "id": "90gfoQnnSPjw"
      },
      "execution_count": null,
      "outputs": []
    },
    {
      "cell_type": "code",
      "source": [
        "thisDS = dataSecurity()\n",
        "\n",
        "data = \"whatever\"\n",
        "passHash = '4e8aa42109451367a8417977d90493b9932ba3c3c91425ed8b7260c856637ab6'"
      ],
      "metadata": {
        "id": "Z8A3Wry5SPg_"
      },
      "execution_count": null,
      "outputs": []
    },
    {
      "cell_type": "code",
      "source": [
        "encData = thisDS.encryptData(data, passHash)\n",
        "print(encData)"
      ],
      "metadata": {
        "colab": {
          "base_uri": "https://localhost:8080/"
        },
        "id": "AOVfkj5ZSX5x",
        "outputId": "ac97ac1b-3250-4833-db2a-0887f0df017a"
      },
      "execution_count": null,
      "outputs": [
        {
          "output_type": "stream",
          "name": "stdout",
          "text": [
            "b'\\xce\\xcc}\\x98\\xf0s@g#\\xab38/\\xf4\\x04V'\n"
          ]
        }
      ]
    },
    {
      "cell_type": "code",
      "source": [
        "thisDS.decryptData(encData, passHash)"
      ],
      "metadata": {
        "colab": {
          "base_uri": "https://localhost:8080/",
          "height": 35
        },
        "id": "rYAyymwbTNFu",
        "outputId": "0d208767-d10c-461e-dda6-092f51641ef0"
      },
      "execution_count": null,
      "outputs": [
        {
          "output_type": "execute_result",
          "data": {
            "text/plain": [
              "'whatever'"
            ],
            "application/vnd.google.colaboratory.intrinsic+json": {
              "type": "string"
            }
          },
          "metadata": {},
          "execution_count": 5
        }
      ]
    },
    {
      "cell_type": "markdown",
      "source": [
        "---"
      ],
      "metadata": {
        "id": "z3Dg7qIXUIS9"
      }
    }
  ]
}